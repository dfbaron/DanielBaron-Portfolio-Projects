{
 "cells": [
  {
   "cell_type": "markdown",
   "id": "b650b478",
   "metadata": {},
   "source": [
    "# Importación de librerías"
   ]
  },
  {
   "cell_type": "code",
   "execution_count": 2,
   "id": "74b06148",
   "metadata": {},
   "outputs": [],
   "source": [
    "import pandas as pd\n",
    "import os\n",
    "import numpy as np\n",
    "import matplotlib.pyplot as plt\n",
    "import pickle\n",
    "import tqdm\n",
    "\n",
    "from surprise import KNNBasic, accuracy, Dataset, Reader\n",
    "from surprise.model_selection import cross_validate, train_test_split, GridSearchCV\n",
    "from sklearn.metrics import jaccard_score"
   ]
  },
  {
   "cell_type": "markdown",
   "id": "e0492d28",
   "metadata": {},
   "source": [
    "## Carga de la información"
   ]
  },
  {
   "cell_type": "markdown",
   "id": "0e1ecba7",
   "metadata": {},
   "source": [
    "Cargar la información a partir de los datos proporcionados en Last.fm"
   ]
  },
  {
   "cell_type": "code",
   "execution_count": 3,
   "id": "550826d3",
   "metadata": {},
   "outputs": [],
   "source": [
    "users = pd.read_csv('dataset/userid-profile.tsv', sep='\\t')\n",
    "users['age'] = users['age'].fillna(0)"
   ]
  },
  {
   "cell_type": "code",
   "execution_count": 32,
   "id": "425b05db",
   "metadata": {},
   "outputs": [
    {
     "data": {
      "text/html": [
       "<div>\n",
       "<style scoped>\n",
       "    .dataframe tbody tr th:only-of-type {\n",
       "        vertical-align: middle;\n",
       "    }\n",
       "\n",
       "    .dataframe tbody tr th {\n",
       "        vertical-align: top;\n",
       "    }\n",
       "\n",
       "    .dataframe thead th {\n",
       "        text-align: right;\n",
       "    }\n",
       "</style>\n",
       "<table border=\"1\" class=\"dataframe\">\n",
       "  <thead>\n",
       "    <tr style=\"text-align: right;\">\n",
       "      <th></th>\n",
       "      <th>#id</th>\n",
       "      <th>gender</th>\n",
       "      <th>age</th>\n",
       "      <th>country</th>\n",
       "      <th>registered</th>\n",
       "    </tr>\n",
       "  </thead>\n",
       "  <tbody>\n",
       "    <tr>\n",
       "      <th>0</th>\n",
       "      <td>user_000001</td>\n",
       "      <td>m</td>\n",
       "      <td>0.0</td>\n",
       "      <td>Japan</td>\n",
       "      <td>Aug 13, 2006</td>\n",
       "    </tr>\n",
       "    <tr>\n",
       "      <th>1</th>\n",
       "      <td>user_000002</td>\n",
       "      <td>f</td>\n",
       "      <td>0.0</td>\n",
       "      <td>Peru</td>\n",
       "      <td>Feb 24, 2006</td>\n",
       "    </tr>\n",
       "    <tr>\n",
       "      <th>2</th>\n",
       "      <td>user_000003</td>\n",
       "      <td>m</td>\n",
       "      <td>22.0</td>\n",
       "      <td>United States</td>\n",
       "      <td>Oct 30, 2005</td>\n",
       "    </tr>\n",
       "    <tr>\n",
       "      <th>3</th>\n",
       "      <td>user_000004</td>\n",
       "      <td>f</td>\n",
       "      <td>0.0</td>\n",
       "      <td>NaN</td>\n",
       "      <td>Apr 26, 2006</td>\n",
       "    </tr>\n",
       "    <tr>\n",
       "      <th>4</th>\n",
       "      <td>user_000005</td>\n",
       "      <td>m</td>\n",
       "      <td>0.0</td>\n",
       "      <td>Bulgaria</td>\n",
       "      <td>Jun 29, 2006</td>\n",
       "    </tr>\n",
       "    <tr>\n",
       "      <th>...</th>\n",
       "      <td>...</td>\n",
       "      <td>...</td>\n",
       "      <td>...</td>\n",
       "      <td>...</td>\n",
       "      <td>...</td>\n",
       "    </tr>\n",
       "    <tr>\n",
       "      <th>987</th>\n",
       "      <td>user_000996</td>\n",
       "      <td>f</td>\n",
       "      <td>0.0</td>\n",
       "      <td>United States</td>\n",
       "      <td>Jul 17, 2006</td>\n",
       "    </tr>\n",
       "    <tr>\n",
       "      <th>988</th>\n",
       "      <td>user_000997</td>\n",
       "      <td>m</td>\n",
       "      <td>0.0</td>\n",
       "      <td>United States</td>\n",
       "      <td>Jan 5, 2007</td>\n",
       "    </tr>\n",
       "    <tr>\n",
       "      <th>989</th>\n",
       "      <td>user_000998</td>\n",
       "      <td>m</td>\n",
       "      <td>0.0</td>\n",
       "      <td>United Kingdom</td>\n",
       "      <td>Sep 28, 2005</td>\n",
       "    </tr>\n",
       "    <tr>\n",
       "      <th>990</th>\n",
       "      <td>user_000999</td>\n",
       "      <td>f</td>\n",
       "      <td>0.0</td>\n",
       "      <td>Poland</td>\n",
       "      <td>Jul 24, 2007</td>\n",
       "    </tr>\n",
       "    <tr>\n",
       "      <th>991</th>\n",
       "      <td>user_001000</td>\n",
       "      <td>m</td>\n",
       "      <td>0.0</td>\n",
       "      <td>United States</td>\n",
       "      <td>Mar 24, 2007</td>\n",
       "    </tr>\n",
       "  </tbody>\n",
       "</table>\n",
       "<p>992 rows × 5 columns</p>\n",
       "</div>"
      ],
      "text/plain": [
       "             #id gender   age         country    registered\n",
       "0    user_000001      m   0.0           Japan  Aug 13, 2006\n",
       "1    user_000002      f   0.0            Peru  Feb 24, 2006\n",
       "2    user_000003      m  22.0   United States  Oct 30, 2005\n",
       "3    user_000004      f   0.0             NaN  Apr 26, 2006\n",
       "4    user_000005      m   0.0        Bulgaria  Jun 29, 2006\n",
       "..           ...    ...   ...             ...           ...\n",
       "987  user_000996      f   0.0   United States  Jul 17, 2006\n",
       "988  user_000997      m   0.0   United States   Jan 5, 2007\n",
       "989  user_000998      m   0.0  United Kingdom  Sep 28, 2005\n",
       "990  user_000999      f   0.0          Poland  Jul 24, 2007\n",
       "991  user_001000      m   0.0   United States  Mar 24, 2007\n",
       "\n",
       "[992 rows x 5 columns]"
      ]
     },
     "execution_count": 32,
     "metadata": {},
     "output_type": "execute_result"
    }
   ],
   "source": [
    "users"
   ]
  },
  {
   "cell_type": "code",
   "execution_count": 4,
   "id": "d86389ff",
   "metadata": {},
   "outputs": [],
   "source": [
    "data_cols = ['user_id', 'timestamp', 'artist_id', 'artist_name', 'track_id', 'track_name']\n",
    "songs = pd.read_csv('dataset/userid-timestamp-artid-artname-traid-traname.tsv', sep='\\t', on_bad_lines='skip', \\\n",
    "                   names = data_cols)"
   ]
  },
  {
   "cell_type": "markdown",
   "id": "1f7bd5c8",
   "metadata": {},
   "source": [
    "## Preprocesamiento"
   ]
  },
  {
   "cell_type": "markdown",
   "id": "18264e7f",
   "metadata": {},
   "source": [
    "Se tomó la cantidad de veces que el usuario ha escuchado la canción como su rating. Asimismo, se tomo que si el usuario ha escuchado menos de dos veces la canción, no le gustó y si la ha escuchado mas de dos veces es porque si le gustó."
   ]
  },
  {
   "cell_type": "markdown",
   "id": "ac542673",
   "metadata": {},
   "source": [
    "Del mismo modo, se van a realizar pruebas para recomendación de canciones y artistas."
   ]
  },
  {
   "cell_type": "markdown",
   "id": "f7cd69f9",
   "metadata": {},
   "source": [
    "### Creación de IDs para canciones y artistas"
   ]
  },
  {
   "cell_type": "code",
   "execution_count": 5,
   "id": "9ae5182a",
   "metadata": {},
   "outputs": [],
   "source": [
    "songs_id = pd.DataFrame(songs['track_name'].unique(), columns = ['track_name'])\n",
    "songs_id['track_id'] = range(1, len(songs_id)+1)"
   ]
  },
  {
   "cell_type": "code",
   "execution_count": 6,
   "id": "812a13c4",
   "metadata": {},
   "outputs": [],
   "source": [
    "artists_id = pd.DataFrame(songs['artist_name'].unique(), columns = ['artist_name'])\n",
    "artists_id['artist_id'] = range(1, len(artists_id)+1)"
   ]
  },
  {
   "cell_type": "markdown",
   "id": "0693b9ae",
   "metadata": {},
   "source": [
    "### Unificación de los artistas y canciones y sus respectivos IDs"
   ]
  },
  {
   "cell_type": "markdown",
   "id": "b5657150",
   "metadata": {},
   "source": [
    "Se crea una matriz unificada de usuarios, canciones y artistas, junto con sus respectivos IDs."
   ]
  },
  {
   "cell_type": "code",
   "execution_count": 7,
   "id": "ff752763",
   "metadata": {},
   "outputs": [],
   "source": [
    "songs = songs[['user_id', 'artist_name', 'track_name']]\n",
    "songs = songs.merge(artists_id, on='artist_name', how='left')\n",
    "songs = songs.merge(songs_id, on='track_name', how='left')\n",
    "songs = songs[['user_id', 'artist_id', 'artist_name', 'track_id', 'track_name']]"
   ]
  },
  {
   "cell_type": "code",
   "execution_count": 8,
   "id": "2213b729",
   "metadata": {},
   "outputs": [],
   "source": [
    "def generate_intervals(dataframe, intervals):\n",
    "    \"\"\"\n",
    "    Función para discretizar los valores de frecuencia de interacción del usuario con las diferentes canciones.\n",
    "    \"\"\"\n",
    "    for interval in intervals:\n",
    "        min_i = intervals[interval]['min']\n",
    "        max_i = intervals[interval]['max']\n",
    "        valor_i = intervals[interval]['valor']\n",
    "        if max_i != None:\n",
    "            dataframe.loc[(dataframe['rating']>=min_i) & (dataframe['rating']<max_i), 'rating'] = valor_i\n",
    "        else:\n",
    "            dataframe.loc[dataframe['rating']>=min_i, 'rating'] = valor_i\n",
    "    return dataframe"
   ]
  },
  {
   "cell_type": "markdown",
   "id": "c0bcff05",
   "metadata": {},
   "source": [
    "Intervalos escogidos para "
   ]
  },
  {
   "cell_type": "code",
   "execution_count": 9,
   "id": "8250bd9f",
   "metadata": {},
   "outputs": [],
   "source": [
    "intervals = {\n",
    "    'intervalo 1': {'min':0, 'max':10, 'valor':0},\n",
    "    'intervalo 2': {'min':10, 'max':None, 'valor':1}\n",
    "}"
   ]
  },
  {
   "cell_type": "markdown",
   "id": "e6e7db92",
   "metadata": {},
   "source": [
    "# Sistema de recomendacion item-item"
   ]
  },
  {
   "cell_type": "markdown",
   "id": "2953d441",
   "metadata": {},
   "source": [
    "## Recomendación de canciones"
   ]
  },
  {
   "cell_type": "code",
   "execution_count": 10,
   "id": "926506d1",
   "metadata": {},
   "outputs": [],
   "source": [
    "ratings_songs = songs[['user_id', 'track_id']].value_counts().to_frame().reset_index()\n",
    "ratings_songs.columns = ['user_id', 'track_id', 'rating']\n",
    "ratings_songs = generate_intervals(ratings_songs, intervals)"
   ]
  },
  {
   "cell_type": "markdown",
   "id": "4e092305",
   "metadata": {},
   "source": [
    "Se escogen las n_samples canciones aleatorias para cada usuario."
   ]
  },
  {
   "cell_type": "code",
   "execution_count": 11,
   "id": "f7156cdb",
   "metadata": {},
   "outputs": [],
   "source": [
    "n_samples = 80\n",
    "ratings_songs = ratings_songs.groupby('user_id').sample(n=n_samples, random_state=1, replace=True).drop_duplicates()"
   ]
  },
  {
   "cell_type": "code",
   "execution_count": 12,
   "id": "02a9db04",
   "metadata": {},
   "outputs": [],
   "source": [
    "min_rating, max_rating = ratings_songs['rating'].min(), ratings_songs['rating'].max()"
   ]
  },
  {
   "cell_type": "code",
   "execution_count": 13,
   "id": "c981f136",
   "metadata": {},
   "outputs": [],
   "source": [
    "reader = Reader(rating_scale=(min_rating, max_rating))\n",
    "ratings_songs_dataset = Dataset.load_from_df(ratings_songs[['user_id', 'track_id', 'rating']], reader)"
   ]
  },
  {
   "cell_type": "code",
   "execution_count": 14,
   "id": "0f94b5a3",
   "metadata": {},
   "outputs": [],
   "source": [
    "train_set, test_set=  train_test_split(ratings_songs_dataset, test_size=0.2)"
   ]
  },
  {
   "cell_type": "code",
   "execution_count": 17,
   "id": "a0396433",
   "metadata": {
    "scrolled": true
   },
   "outputs": [
    {
     "name": "stdout",
     "output_type": "stream",
     "text": [
      "Running for similarity: cosine and K: 50\n",
      "Computing the cosine similarity matrix...\n"
     ]
    },
    {
     "name": "stderr",
     "output_type": "stream",
     "text": [
      "C:\\Users\\DanielBaron\\anaconda3\\envs\\recsys\\lib\\site-packages\\surprise\\prediction_algorithms\\algo_base.py:249: RuntimeWarning: invalid value encountered in double_scalars\n",
      "  sim = construction_func[name](*args)\n"
     ]
    },
    {
     "name": "stdout",
     "output_type": "stream",
     "text": [
      "Done computing similarity matrix.\n",
      "RMSE: 0.4996\n",
      "MAE:  0.4991\n",
      "Running for similarity: cosine and K: 20\n",
      "Computing the cosine similarity matrix...\n",
      "Done computing similarity matrix.\n",
      "RMSE: 0.4996\n",
      "MAE:  0.4991\n",
      "Running for similarity: cosine and K: 10\n",
      "Computing the cosine similarity matrix...\n",
      "Done computing similarity matrix.\n",
      "RMSE: 0.4996\n",
      "MAE:  0.4991\n",
      "Running for similarity: cosine and K: 5\n",
      "Computing the cosine similarity matrix...\n",
      "Done computing similarity matrix.\n",
      "RMSE: 0.4996\n",
      "MAE:  0.4992\n",
      "Running for similarity: pearson and K: 50\n",
      "Computing the pearson similarity matrix...\n",
      "Done computing similarity matrix.\n",
      "RMSE: 0.4998\n",
      "MAE:  0.4997\n",
      "Running for similarity: pearson and K: 20\n",
      "Computing the pearson similarity matrix...\n",
      "Done computing similarity matrix.\n",
      "RMSE: 0.4998\n",
      "MAE:  0.4997\n",
      "Running for similarity: pearson and K: 10\n",
      "Computing the pearson similarity matrix...\n",
      "Done computing similarity matrix.\n",
      "RMSE: 0.4998\n",
      "MAE:  0.4997\n",
      "Running for similarity: pearson and K: 5\n",
      "Computing the pearson similarity matrix...\n",
      "Done computing similarity matrix.\n",
      "RMSE: 0.4998\n",
      "MAE:  0.4997\n",
      "Running for similarity: msd and K: 50\n",
      "Computing the msd similarity matrix...\n",
      "Done computing similarity matrix.\n",
      "RMSE: 0.4996\n",
      "MAE:  0.4978\n",
      "Running for similarity: msd and K: 20\n",
      "Computing the msd similarity matrix...\n",
      "Done computing similarity matrix.\n",
      "RMSE: 0.4996\n",
      "MAE:  0.4978\n",
      "Running for similarity: msd and K: 10\n",
      "Computing the msd similarity matrix...\n",
      "Done computing similarity matrix.\n",
      "RMSE: 0.4996\n",
      "MAE:  0.4978\n",
      "Running for similarity: msd and K: 5\n",
      "Computing the msd similarity matrix...\n",
      "Done computing similarity matrix.\n",
      "RMSE: 0.4996\n",
      "MAE:  0.4978\n"
     ]
    }
   ],
   "source": [
    "similarities = ['cosine', 'pearson', 'msd']\n",
    "KS = [50, 20, 10, 5]\n",
    "data_songs = []\n",
    "for similarity in similarities:\n",
    "    sim_options = {'name': similarity,\n",
    "                   'user_based': False\n",
    "                   }\n",
    "    bsl_options = {'n_epochs': 20}    \n",
    "    for K in KS:\n",
    "        print('Running for similarity: {} and K: {}'.format(similarity, K))\n",
    "        model = KNNBasic(k=K, min_k=2, sim_options=sim_options, bsl_options=bsl_options)\n",
    "        \n",
    "        model.fit(trainset=train_set)\n",
    "        predictions = model.test(test_set)\n",
    "        rmse = accuracy.rmse(predictions)\n",
    "        mae = accuracy.mae(predictions)\n",
    "        \n",
    "        data_row = ['Recomendacion por canciones', n_samples, similarity, K, rmse, mae]\n",
    "        data_songs.append(data_row)\n",
    "\n",
    "data_songs_df = pd.DataFrame(data=data_songs, columns=['TIPO_RECOMENDACION', 'CANTIDAD_CANCIONES', 'SIMILITUD', 'K',\\\n",
    "                                                       'RMSE', 'MAE'])"
   ]
  },
  {
   "cell_type": "code",
   "execution_count": 18,
   "id": "ed488137",
   "metadata": {},
   "outputs": [],
   "source": [
    "data_songs_df.to_csv('stats_songs_item_item.csv', sep='|', decimal=',', index=False)"
   ]
  },
  {
   "cell_type": "markdown",
   "id": "eeb9030c",
   "metadata": {},
   "source": [
    "## Recomendación por artistas"
   ]
  },
  {
   "cell_type": "code",
   "execution_count": 15,
   "id": "cfd067d5",
   "metadata": {},
   "outputs": [],
   "source": [
    "ratings_artists = songs[['user_id', 'artist_id']].value_counts().to_frame().reset_index()\n",
    "ratings_artists.columns = ['user_id', 'artist_id', 'rating']\n",
    "ratings_artists = generate_intervals(ratings_artists, intervals)"
   ]
  },
  {
   "cell_type": "markdown",
   "id": "72f926e3",
   "metadata": {},
   "source": [
    "Se escogen los n_samples artistas aleatorias para cada usuario."
   ]
  },
  {
   "cell_type": "code",
   "execution_count": 16,
   "id": "e029cc2c",
   "metadata": {},
   "outputs": [],
   "source": [
    "n_samples = 80\n",
    "ratings_artists = ratings_artists.groupby('user_id').sample(n=n_samples, random_state=1, replace=True).drop_duplicates()"
   ]
  },
  {
   "cell_type": "code",
   "execution_count": 17,
   "id": "7c6b70b1",
   "metadata": {},
   "outputs": [],
   "source": [
    "min_rating, max_rating = ratings_artists['rating'].min(), ratings_artists['rating'].max()"
   ]
  },
  {
   "cell_type": "code",
   "execution_count": 18,
   "id": "b4846830",
   "metadata": {},
   "outputs": [],
   "source": [
    "reader = Reader(rating_scale=(min_rating, max_rating))\n",
    "ratings_artists_dataset = Dataset.load_from_df(ratings_artists[['user_id', 'artist_id', 'rating']], reader)"
   ]
  },
  {
   "cell_type": "code",
   "execution_count": 19,
   "id": "9ce6edc3",
   "metadata": {},
   "outputs": [],
   "source": [
    "train_set, test_set=  train_test_split(ratings_artists_dataset, test_size=0.2)"
   ]
  },
  {
   "cell_type": "code",
   "execution_count": 20,
   "id": "d5bf5a5c",
   "metadata": {
    "scrolled": true
   },
   "outputs": [
    {
     "name": "stdout",
     "output_type": "stream",
     "text": [
      "Running for similarity: cosine and K: 50\n",
      "Computing the cosine similarity matrix...\n"
     ]
    },
    {
     "name": "stderr",
     "output_type": "stream",
     "text": [
      "C:\\Users\\DanielBaron\\anaconda3\\envs\\recsys\\lib\\site-packages\\surprise\\prediction_algorithms\\algo_base.py:249: RuntimeWarning: invalid value encountered in double_scalars\n",
      "  sim = construction_func[name](*args)\n"
     ]
    },
    {
     "name": "stdout",
     "output_type": "stream",
     "text": [
      "Done computing similarity matrix.\n",
      "RMSE: 0.4488\n",
      "MAE:  0.3886\n",
      "Running for similarity: cosine and K: 20\n",
      "Computing the cosine similarity matrix...\n",
      "Done computing similarity matrix.\n",
      "RMSE: 0.4503\n",
      "MAE:  0.3904\n",
      "Running for similarity: cosine and K: 10\n",
      "Computing the cosine similarity matrix...\n",
      "Done computing similarity matrix.\n",
      "RMSE: 0.4504\n",
      "MAE:  0.3901\n",
      "Running for similarity: cosine and K: 5\n",
      "Computing the cosine similarity matrix...\n",
      "Done computing similarity matrix.\n",
      "RMSE: 0.4531\n",
      "MAE:  0.3916\n",
      "Running for similarity: pearson and K: 50\n",
      "Computing the pearson similarity matrix...\n",
      "Done computing similarity matrix.\n",
      "RMSE: 0.4509\n",
      "MAE:  0.3965\n",
      "Running for similarity: pearson and K: 20\n",
      "Computing the pearson similarity matrix...\n",
      "Done computing similarity matrix.\n",
      "RMSE: 0.4509\n",
      "MAE:  0.3965\n",
      "Running for similarity: pearson and K: 10\n",
      "Computing the pearson similarity matrix...\n",
      "Done computing similarity matrix.\n",
      "RMSE: 0.4509\n",
      "MAE:  0.3965\n",
      "Running for similarity: pearson and K: 5\n",
      "Computing the pearson similarity matrix...\n",
      "Done computing similarity matrix.\n",
      "RMSE: 0.4512\n",
      "MAE:  0.3966\n",
      "Running for similarity: msd and K: 50\n",
      "Computing the msd similarity matrix...\n",
      "Done computing similarity matrix.\n",
      "RMSE: 0.4506\n",
      "MAE:  0.3826\n",
      "Running for similarity: msd and K: 20\n",
      "Computing the msd similarity matrix...\n",
      "Done computing similarity matrix.\n",
      "RMSE: 0.4507\n",
      "MAE:  0.3826\n",
      "Running for similarity: msd and K: 10\n",
      "Computing the msd similarity matrix...\n",
      "Done computing similarity matrix.\n",
      "RMSE: 0.4520\n",
      "MAE:  0.3825\n",
      "Running for similarity: msd and K: 5\n",
      "Computing the msd similarity matrix...\n",
      "Done computing similarity matrix.\n",
      "RMSE: 0.4580\n",
      "MAE:  0.3824\n"
     ]
    }
   ],
   "source": [
    "similarities = ['cosine', 'pearson', 'msd']\n",
    "KS = [50, 20, 10, 5]\n",
    "data_artists = []\n",
    "for similarity in similarities:\n",
    "    sim_options = {'name': similarity,\n",
    "                   'user_based': False\n",
    "                   }\n",
    "    bsl_options = {'n_epochs': 20}\n",
    "    for K in KS:\n",
    "        print('Running for similarity: {} and K: {}'.format(similarity, K))\n",
    "        model = KNNBasic(k=K, min_k=2, sim_options=sim_options, bsl_options=bsl_options)\n",
    "        \n",
    "        model.fit(trainset=train_set)\n",
    "        predictions = model.test(test_set)\n",
    "        rmse = accuracy.rmse(predictions)\n",
    "        mae = accuracy.mae(predictions)\n",
    "        \n",
    "        data_row = ['Recomendacion por artistas', n_samples, similarity, K, rmse, mae]\n",
    "        data_artists.append(data_row)\n",
    "\n",
    "data_artists_df = pd.DataFrame(data=data_artists, columns=['TIPO_RECOMENDACION', 'CANTIDAD_ARTISTAS', 'SIMILITUD', 'K', \\\n",
    "                                                           'RMSE', 'MAE'])"
   ]
  },
  {
   "cell_type": "code",
   "execution_count": 25,
   "id": "f791d860",
   "metadata": {},
   "outputs": [],
   "source": [
    "data_artists_df.to_csv('stats_artists_item_item.csv', sep='|', decimal=',', index=False)"
   ]
  },
  {
   "cell_type": "code",
   "execution_count": 22,
   "id": "48c47558",
   "metadata": {},
   "outputs": [
    {
     "data": {
      "text/html": [
       "<div>\n",
       "<style scoped>\n",
       "    .dataframe tbody tr th:only-of-type {\n",
       "        vertical-align: middle;\n",
       "    }\n",
       "\n",
       "    .dataframe tbody tr th {\n",
       "        vertical-align: top;\n",
       "    }\n",
       "\n",
       "    .dataframe thead th {\n",
       "        text-align: right;\n",
       "    }\n",
       "</style>\n",
       "<table border=\"1\" class=\"dataframe\">\n",
       "  <thead>\n",
       "    <tr style=\"text-align: right;\">\n",
       "      <th></th>\n",
       "      <th>TIPO_RECOMENDACION</th>\n",
       "      <th>CANTIDAD_ARTISTAS</th>\n",
       "      <th>SIMILITUD</th>\n",
       "      <th>K</th>\n",
       "      <th>RMSE</th>\n",
       "      <th>MAE</th>\n",
       "    </tr>\n",
       "  </thead>\n",
       "  <tbody>\n",
       "    <tr>\n",
       "      <th>0</th>\n",
       "      <td>Recomendacion por artistas</td>\n",
       "      <td>80</td>\n",
       "      <td>cosine</td>\n",
       "      <td>50</td>\n",
       "      <td>0.448826</td>\n",
       "      <td>0.388650</td>\n",
       "    </tr>\n",
       "    <tr>\n",
       "      <th>1</th>\n",
       "      <td>Recomendacion por artistas</td>\n",
       "      <td>80</td>\n",
       "      <td>cosine</td>\n",
       "      <td>20</td>\n",
       "      <td>0.450285</td>\n",
       "      <td>0.390373</td>\n",
       "    </tr>\n",
       "    <tr>\n",
       "      <th>2</th>\n",
       "      <td>Recomendacion por artistas</td>\n",
       "      <td>80</td>\n",
       "      <td>cosine</td>\n",
       "      <td>10</td>\n",
       "      <td>0.450414</td>\n",
       "      <td>0.390146</td>\n",
       "    </tr>\n",
       "    <tr>\n",
       "      <th>8</th>\n",
       "      <td>Recomendacion por artistas</td>\n",
       "      <td>80</td>\n",
       "      <td>msd</td>\n",
       "      <td>50</td>\n",
       "      <td>0.450624</td>\n",
       "      <td>0.382558</td>\n",
       "    </tr>\n",
       "    <tr>\n",
       "      <th>9</th>\n",
       "      <td>Recomendacion por artistas</td>\n",
       "      <td>80</td>\n",
       "      <td>msd</td>\n",
       "      <td>20</td>\n",
       "      <td>0.450730</td>\n",
       "      <td>0.382599</td>\n",
       "    </tr>\n",
       "    <tr>\n",
       "      <th>4</th>\n",
       "      <td>Recomendacion por artistas</td>\n",
       "      <td>80</td>\n",
       "      <td>pearson</td>\n",
       "      <td>50</td>\n",
       "      <td>0.450942</td>\n",
       "      <td>0.396525</td>\n",
       "    </tr>\n",
       "    <tr>\n",
       "      <th>5</th>\n",
       "      <td>Recomendacion por artistas</td>\n",
       "      <td>80</td>\n",
       "      <td>pearson</td>\n",
       "      <td>20</td>\n",
       "      <td>0.450942</td>\n",
       "      <td>0.396525</td>\n",
       "    </tr>\n",
       "    <tr>\n",
       "      <th>6</th>\n",
       "      <td>Recomendacion por artistas</td>\n",
       "      <td>80</td>\n",
       "      <td>pearson</td>\n",
       "      <td>10</td>\n",
       "      <td>0.450949</td>\n",
       "      <td>0.396532</td>\n",
       "    </tr>\n",
       "    <tr>\n",
       "      <th>7</th>\n",
       "      <td>Recomendacion por artistas</td>\n",
       "      <td>80</td>\n",
       "      <td>pearson</td>\n",
       "      <td>5</td>\n",
       "      <td>0.451167</td>\n",
       "      <td>0.396556</td>\n",
       "    </tr>\n",
       "    <tr>\n",
       "      <th>10</th>\n",
       "      <td>Recomendacion por artistas</td>\n",
       "      <td>80</td>\n",
       "      <td>msd</td>\n",
       "      <td>10</td>\n",
       "      <td>0.452002</td>\n",
       "      <td>0.382465</td>\n",
       "    </tr>\n",
       "    <tr>\n",
       "      <th>3</th>\n",
       "      <td>Recomendacion por artistas</td>\n",
       "      <td>80</td>\n",
       "      <td>cosine</td>\n",
       "      <td>5</td>\n",
       "      <td>0.453098</td>\n",
       "      <td>0.391569</td>\n",
       "    </tr>\n",
       "    <tr>\n",
       "      <th>11</th>\n",
       "      <td>Recomendacion por artistas</td>\n",
       "      <td>80</td>\n",
       "      <td>msd</td>\n",
       "      <td>5</td>\n",
       "      <td>0.457984</td>\n",
       "      <td>0.382406</td>\n",
       "    </tr>\n",
       "  </tbody>\n",
       "</table>\n",
       "</div>"
      ],
      "text/plain": [
       "            TIPO_RECOMENDACION  CANTIDAD_ARTISTAS SIMILITUD   K      RMSE  \\\n",
       "0   Recomendacion por artistas                 80    cosine  50  0.448826   \n",
       "1   Recomendacion por artistas                 80    cosine  20  0.450285   \n",
       "2   Recomendacion por artistas                 80    cosine  10  0.450414   \n",
       "8   Recomendacion por artistas                 80       msd  50  0.450624   \n",
       "9   Recomendacion por artistas                 80       msd  20  0.450730   \n",
       "4   Recomendacion por artistas                 80   pearson  50  0.450942   \n",
       "5   Recomendacion por artistas                 80   pearson  20  0.450942   \n",
       "6   Recomendacion por artistas                 80   pearson  10  0.450949   \n",
       "7   Recomendacion por artistas                 80   pearson   5  0.451167   \n",
       "10  Recomendacion por artistas                 80       msd  10  0.452002   \n",
       "3   Recomendacion por artistas                 80    cosine   5  0.453098   \n",
       "11  Recomendacion por artistas                 80       msd   5  0.457984   \n",
       "\n",
       "         MAE  \n",
       "0   0.388650  \n",
       "1   0.390373  \n",
       "2   0.390146  \n",
       "8   0.382558  \n",
       "9   0.382599  \n",
       "4   0.396525  \n",
       "5   0.396525  \n",
       "6   0.396532  \n",
       "7   0.396556  \n",
       "10  0.382465  \n",
       "3   0.391569  \n",
       "11  0.382406  "
      ]
     },
     "execution_count": 22,
     "metadata": {},
     "output_type": "execute_result"
    }
   ],
   "source": [
    "data_artists_df.sort_values(by='RMSE')"
   ]
  },
  {
   "cell_type": "markdown",
   "id": "65a90335",
   "metadata": {},
   "source": [
    "# Sistema de recomendacion user-user"
   ]
  },
  {
   "cell_type": "markdown",
   "id": "131bee0a",
   "metadata": {},
   "source": [
    "## Recomendación de canciones"
   ]
  },
  {
   "cell_type": "code",
   "execution_count": 26,
   "id": "029ccdb5",
   "metadata": {},
   "outputs": [],
   "source": [
    "ratings_songs = songs[['user_id', 'track_id']].value_counts().to_frame().reset_index()\n",
    "ratings_songs.columns = ['user_id', 'track_id', 'rating']\n",
    "ratings_songs = generate_intervals(ratings_songs, intervals)"
   ]
  },
  {
   "cell_type": "markdown",
   "id": "6b99d6e7",
   "metadata": {},
   "source": [
    "Se escogen las n_samples canciones aleatorias para cada usuario."
   ]
  },
  {
   "cell_type": "code",
   "execution_count": 27,
   "id": "c781d755",
   "metadata": {},
   "outputs": [],
   "source": [
    "n_samples = 80\n",
    "ratings_songs = ratings_songs.groupby('user_id').sample(n=n_samples, random_state=1, replace=True).drop_duplicates()"
   ]
  },
  {
   "cell_type": "code",
   "execution_count": 28,
   "id": "db095838",
   "metadata": {},
   "outputs": [],
   "source": [
    "min_rating, max_rating = ratings_songs['rating'].min(), ratings_songs['rating'].max()"
   ]
  },
  {
   "cell_type": "code",
   "execution_count": 29,
   "id": "ac6517bd",
   "metadata": {},
   "outputs": [],
   "source": [
    "reader = Reader(rating_scale=(min_rating, max_rating))\n",
    "ratings_songs_dataset = Dataset.load_from_df(ratings_songs[['user_id', 'track_id', 'rating']], reader)"
   ]
  },
  {
   "cell_type": "code",
   "execution_count": 30,
   "id": "84d12c62",
   "metadata": {},
   "outputs": [],
   "source": [
    "train_set, test_set=  train_test_split(ratings_songs_dataset, test_size=0.2)"
   ]
  },
  {
   "cell_type": "code",
   "execution_count": 31,
   "id": "c0506f73",
   "metadata": {
    "scrolled": true
   },
   "outputs": [
    {
     "name": "stdout",
     "output_type": "stream",
     "text": [
      "Running for similarity: cosine and K: 50\n",
      "Computing the cosine similarity matrix...\n",
      "Done computing similarity matrix.\n",
      "RMSE: 0.4999\n",
      "MAE:  0.4996\n",
      "Running for similarity: cosine and K: 20\n",
      "Computing the cosine similarity matrix...\n",
      "Done computing similarity matrix.\n",
      "RMSE: 0.4999\n",
      "MAE:  0.4996\n",
      "Running for similarity: cosine and K: 10\n",
      "Computing the cosine similarity matrix...\n",
      "Done computing similarity matrix.\n",
      "RMSE: 0.4999\n",
      "MAE:  0.4996\n",
      "Running for similarity: cosine and K: 5\n",
      "Computing the cosine similarity matrix...\n",
      "Done computing similarity matrix.\n",
      "RMSE: 0.4999\n",
      "MAE:  0.4997\n",
      "Running for similarity: pearson and K: 50\n",
      "Computing the pearson similarity matrix...\n",
      "Done computing similarity matrix.\n",
      "RMSE: 0.4999\n",
      "MAE:  0.4997\n",
      "Running for similarity: pearson and K: 20\n",
      "Computing the pearson similarity matrix...\n",
      "Done computing similarity matrix.\n",
      "RMSE: 0.4999\n",
      "MAE:  0.4997\n",
      "Running for similarity: pearson and K: 10\n",
      "Computing the pearson similarity matrix...\n",
      "Done computing similarity matrix.\n",
      "RMSE: 0.4999\n",
      "MAE:  0.4997\n",
      "Running for similarity: pearson and K: 5\n",
      "Computing the pearson similarity matrix...\n",
      "Done computing similarity matrix.\n",
      "RMSE: 0.4999\n",
      "MAE:  0.4997\n",
      "Running for similarity: msd and K: 50\n",
      "Computing the msd similarity matrix...\n",
      "Done computing similarity matrix.\n",
      "RMSE: 0.5004\n",
      "MAE:  0.4995\n",
      "Running for similarity: msd and K: 20\n",
      "Computing the msd similarity matrix...\n",
      "Done computing similarity matrix.\n",
      "RMSE: 0.5004\n",
      "MAE:  0.4995\n",
      "Running for similarity: msd and K: 10\n",
      "Computing the msd similarity matrix...\n",
      "Done computing similarity matrix.\n",
      "RMSE: 0.5004\n",
      "MAE:  0.4995\n",
      "Running for similarity: msd and K: 5\n",
      "Computing the msd similarity matrix...\n",
      "Done computing similarity matrix.\n",
      "RMSE: 0.5004\n",
      "MAE:  0.4995\n"
     ]
    }
   ],
   "source": [
    "similarities = ['cosine', 'pearson', 'msd']\n",
    "KS = [50, 20, 10, 5]\n",
    "data_songs = []\n",
    "for similarity in similarities:\n",
    "    sim_options = {'name': similarity,\n",
    "                   'user_based': True\n",
    "                   }\n",
    "    bsl_options = {'n_epochs': 20}    \n",
    "    for K in KS:\n",
    "        print('Running for similarity: {} and K: {}'.format(similarity, K))\n",
    "        model = KNNBasic(k=K, min_k=2, sim_options=sim_options, bsl_options=bsl_options)\n",
    "        \n",
    "        model.fit(trainset=train_set)\n",
    "        predictions = model.test(test_set)\n",
    "        rmse = accuracy.rmse(predictions)\n",
    "        mae = accuracy.mae(predictions)\n",
    "        \n",
    "        data_row = ['Recomendacion por canciones', n_samples, similarity, K, rmse, mae]\n",
    "        data_songs.append(data_row)\n",
    "\n",
    "data_songs_df = pd.DataFrame(data=data_songs, columns=['TIPO_RECOMENDACION', 'CANTIDAD_CANCIONES', 'SIMILITUD', 'K', \\\n",
    "                                                       'RMSE', 'MAE'])"
   ]
  },
  {
   "cell_type": "code",
   "execution_count": 32,
   "id": "8d17df18",
   "metadata": {},
   "outputs": [],
   "source": [
    "data_songs_df.to_csv('stats_songs_user_user.csv', sep='|', decimal=',', index=False)"
   ]
  },
  {
   "cell_type": "markdown",
   "id": "7d719cb3",
   "metadata": {},
   "source": [
    "## Recomendación por artistas"
   ]
  },
  {
   "cell_type": "code",
   "execution_count": 23,
   "id": "83b3dbee",
   "metadata": {},
   "outputs": [],
   "source": [
    "ratings_artists = songs[['user_id', 'artist_id']].value_counts().to_frame().reset_index()\n",
    "ratings_artists.columns = ['user_id', 'artist_id', 'rating']\n",
    "ratings_artists = generate_intervals(ratings_artists, intervals)"
   ]
  },
  {
   "cell_type": "markdown",
   "id": "2d6f9c60",
   "metadata": {},
   "source": [
    "Se escogen los n_samples artistas aleatorias para cada usuario."
   ]
  },
  {
   "cell_type": "code",
   "execution_count": 24,
   "id": "0ec2634c",
   "metadata": {},
   "outputs": [],
   "source": [
    "n_samples = 80\n",
    "ratings_artists = ratings_artists.groupby('user_id').sample(n=n_samples, random_state=1, replace=True).drop_duplicates()"
   ]
  },
  {
   "cell_type": "code",
   "execution_count": 25,
   "id": "9dfc0d64",
   "metadata": {},
   "outputs": [],
   "source": [
    "min_rating, max_rating = ratings_artists['rating'].min(), ratings_artists['rating'].max()"
   ]
  },
  {
   "cell_type": "code",
   "execution_count": 26,
   "id": "478588ee",
   "metadata": {},
   "outputs": [],
   "source": [
    "reader = Reader(rating_scale=(min_rating, max_rating))\n",
    "ratings_artists_dataset = Dataset.load_from_df(ratings_artists[['user_id', 'artist_id', 'rating']], reader)"
   ]
  },
  {
   "cell_type": "code",
   "execution_count": 27,
   "id": "92a5821c",
   "metadata": {},
   "outputs": [],
   "source": [
    "train_set, test_set=  train_test_split(ratings_artists_dataset, test_size=0.2)"
   ]
  },
  {
   "cell_type": "code",
   "execution_count": 28,
   "id": "372b8b74",
   "metadata": {
    "scrolled": true
   },
   "outputs": [
    {
     "name": "stdout",
     "output_type": "stream",
     "text": [
      "Running for similarity: cosine and K: 50\n",
      "Computing the cosine similarity matrix...\n"
     ]
    },
    {
     "name": "stderr",
     "output_type": "stream",
     "text": [
      "C:\\Users\\DanielBaron\\anaconda3\\envs\\recsys\\lib\\site-packages\\surprise\\prediction_algorithms\\algo_base.py:249: RuntimeWarning: invalid value encountered in double_scalars\n",
      "  sim = construction_func[name](*args)\n"
     ]
    },
    {
     "name": "stdout",
     "output_type": "stream",
     "text": [
      "Done computing similarity matrix.\n",
      "RMSE: 0.4555\n",
      "MAE:  0.4003\n",
      "Running for similarity: cosine and K: 20\n",
      "Computing the cosine similarity matrix...\n",
      "Done computing similarity matrix.\n",
      "RMSE: 0.4567\n",
      "MAE:  0.4005\n",
      "Running for similarity: cosine and K: 10\n",
      "Computing the cosine similarity matrix...\n",
      "Done computing similarity matrix.\n",
      "RMSE: 0.4561\n",
      "MAE:  0.3997\n",
      "Running for similarity: cosine and K: 5\n",
      "Computing the cosine similarity matrix...\n",
      "Done computing similarity matrix.\n",
      "RMSE: 0.4562\n",
      "MAE:  0.3999\n",
      "Running for similarity: pearson and K: 50\n",
      "Computing the pearson similarity matrix...\n",
      "Done computing similarity matrix.\n",
      "RMSE: 0.4526\n",
      "MAE:  0.4023\n",
      "Running for similarity: pearson and K: 20\n",
      "Computing the pearson similarity matrix...\n",
      "Done computing similarity matrix.\n",
      "RMSE: 0.4526\n",
      "MAE:  0.4023\n",
      "Running for similarity: pearson and K: 10\n",
      "Computing the pearson similarity matrix...\n",
      "Done computing similarity matrix.\n",
      "RMSE: 0.4526\n",
      "MAE:  0.4023\n",
      "Running for similarity: pearson and K: 5\n",
      "Computing the pearson similarity matrix...\n",
      "Done computing similarity matrix.\n",
      "RMSE: 0.4527\n",
      "MAE:  0.4023\n",
      "Running for similarity: msd and K: 50\n",
      "Computing the msd similarity matrix...\n",
      "Done computing similarity matrix.\n",
      "RMSE: 0.4603\n",
      "MAE:  0.3994\n",
      "Running for similarity: msd and K: 20\n",
      "Computing the msd similarity matrix...\n",
      "Done computing similarity matrix.\n",
      "RMSE: 0.4601\n",
      "MAE:  0.3989\n",
      "Running for similarity: msd and K: 10\n",
      "Computing the msd similarity matrix...\n",
      "Done computing similarity matrix.\n",
      "RMSE: 0.4607\n",
      "MAE:  0.3979\n",
      "Running for similarity: msd and K: 5\n",
      "Computing the msd similarity matrix...\n",
      "Done computing similarity matrix.\n",
      "RMSE: 0.4656\n",
      "MAE:  0.3964\n"
     ]
    }
   ],
   "source": [
    "similarities = ['cosine', 'pearson', 'msd']\n",
    "KS = [50, 20, 10, 5]\n",
    "data_artists = []\n",
    "for similarity in similarities:\n",
    "    sim_options = {'name': similarity,\n",
    "                   'user_based': True\n",
    "                   }\n",
    "    bsl_options = {'n_epochs': 20}\n",
    "    for K in KS:\n",
    "        print('Running for similarity: {} and K: {}'.format(similarity, K))\n",
    "        model = KNNBasic(k=K, min_k=2, sim_options=sim_options, bsl_options=bsl_options)\n",
    "        \n",
    "        model.fit(trainset=train_set)\n",
    "        predictions = model.test(test_set)\n",
    "        rmse = accuracy.rmse(predictions)\n",
    "        mae = accuracy.mae(predictions)\n",
    "        \n",
    "        data_row = ['Recomendacion por artistas', n_samples, similarity, K, rmse, mae]\n",
    "        data_artists.append(data_row)\n",
    "\n",
    "data_artists_df = pd.DataFrame(data=data_artists, columns=['TIPO_RECOMENDACION', 'CANTIDAD_ARTISTAS', 'SIMILITUD', \\\n",
    "                                                           'K', 'RMSE', 'MAE'])"
   ]
  },
  {
   "cell_type": "code",
   "execution_count": 39,
   "id": "9e718585",
   "metadata": {},
   "outputs": [],
   "source": [
    "data_artists_df.to_csv('stats_artists_user_user.csv', sep='|', decimal=',', index=False)"
   ]
  },
  {
   "cell_type": "markdown",
   "id": "15349ccd",
   "metadata": {},
   "source": [
    "## Best Model"
   ]
  },
  {
   "cell_type": "code",
   "execution_count": 29,
   "id": "67b0db2e",
   "metadata": {
    "scrolled": true
   },
   "outputs": [
    {
     "name": "stdout",
     "output_type": "stream",
     "text": [
      "Computing the cosine similarity matrix...\n",
      "Done computing similarity matrix.\n",
      "RMSE: 0.4555\n",
      "MAE:  0.4003\n"
     ]
    }
   ],
   "source": [
    "sim_options = {'name': 'cosine',\n",
    "               'user_based': True\n",
    "               }\n",
    "bsl_options = {'n_epochs': 50}    \n",
    "K = 50\n",
    "\n",
    "model = KNNBasic(k=K, min_k=2, sim_options=sim_options, bsl_options=bsl_options)\n",
    "\n",
    "model.fit(trainset=train_set)\n",
    "predictions = model.test(test_set)\n",
    "rmse = accuracy.rmse(predictions)\n",
    "mae = accuracy.mae(predictions)\n",
    "\n",
    "# Save to file in the current working directory\n",
    "pkl_filename = \"best_model.pkl\"\n",
    "with open(pkl_filename, 'wb') as file:\n",
    "    pickle.dump(model, file)"
   ]
  },
  {
   "cell_type": "markdown",
   "id": "aa546f81",
   "metadata": {},
   "source": [
    "## Generacion de graficas"
   ]
  },
  {
   "cell_type": "code",
   "execution_count": 138,
   "id": "741edd22",
   "metadata": {},
   "outputs": [],
   "source": [
    "stast = pd.read_excel('stats_def.xlsx')"
   ]
  },
  {
   "cell_type": "code",
   "execution_count": 137,
   "id": "2b85e197",
   "metadata": {},
   "outputs": [
    {
     "data": {
      "image/png": "[encoded data removed]",
      "text/plain": [
       "<Figure size 720x360 with 1 Axes>"
      ]
     },
     "metadata": {
      "needs_background": "light"
     },
     "output_type": "display_data"
    }
   ],
   "source": [
    "canciones = stast[stast['TIPO_RECOMENDACION']=='Recomendacion por canciones'][['K', 'RMSE']].groupby('K').mean()\n",
    "artistas = stast[stast['TIPO_RECOMENDACION']=='Recomendacion por artistas'][['K', 'RMSE']].groupby('K').mean()\n",
    "\n",
    "plt.figure(figsize=(10,5))\n",
    "plt.plot(canciones)\n",
    "plt.plot(artistas)\n",
    "plt.title('Cambio de RMSE al variar K')\n",
    "plt.legend(['Recomendación por canciones', 'Recomendación por artistas'])\n",
    "plt.xlabel('K')\n",
    "plt.ylabel('RMSE')\n",
    "plt.grid()"
   ]
  },
  {
   "cell_type": "code",
   "execution_count": 135,
   "id": "0f9df5f7",
   "metadata": {},
   "outputs": [
    {
     "data": {
      "image/png": "[encoded data removed]",
      "text/plain": [
       "<Figure size 720x360 with 1 Axes>"
      ]
     },
     "metadata": {
      "needs_background": "light"
     },
     "output_type": "display_data"
    }
   ],
   "source": [
    "canciones = stast[stast['TIPO_RECOMENDACION']=='Recomendacion por artistas']\n",
    "user = canciones[canciones['FILTRO_COLABORATIVO']=='user-user']\n",
    "user_cosine = user[user['SIMILITUD']=='cosine'][['K', 'RMSE']].groupby('K').mean()\n",
    "user_pearson = user[user['SIMILITUD']=='pearson'][['K', 'RMSE']].groupby('K').mean()\n",
    "user_msd = user[user['SIMILITUD']=='msd'][['K', 'RMSE']].groupby('K').mean()\n",
    "\n",
    "plt.figure(figsize=(10,5))\n",
    "plt.plot(user_cosine)\n",
    "plt.plot(user_pearson)\n",
    "plt.plot(user_msd)\n",
    "plt.title('Cambio de RMSE al variar K con filtro colaborativo user-user y recomendación de artistas')\n",
    "plt.legend(['Similitud Coseno', 'Similitud Pearson', 'Similitud MSD'])\n",
    "plt.xlabel('K')\n",
    "plt.ylabel('RMSE')\n",
    "plt.grid()"
   ]
  },
  {
   "cell_type": "code",
   "execution_count": 136,
   "id": "c5e07db9",
   "metadata": {},
   "outputs": [
    {
     "data": {
      "image/png": "[encoded data removed]",
      "text/plain": [
       "<Figure size 720x360 with 1 Axes>"
      ]
     },
     "metadata": {
      "needs_background": "light"
     },
     "output_type": "display_data"
    }
   ],
   "source": [
    "canciones = stast[stast['TIPO_RECOMENDACION']=='Recomendacion por artistas']\n",
    "item = canciones[canciones['FILTRO_COLABORATIVO']=='item-item']\n",
    "item_cosine = item[item['SIMILITUD']=='cosine'][['K', 'RMSE']].groupby('K').mean()\n",
    "item_pearson = item[item['SIMILITUD']=='pearson'][['K', 'RMSE']].groupby('K').mean()\n",
    "item_msd = item[item['SIMILITUD']=='msd'][['K', 'RMSE']].groupby('K').mean()\n",
    "\n",
    "plt.figure(figsize=(10,5))\n",
    "plt.plot(item_cosine)\n",
    "plt.plot(item_pearson)\n",
    "plt.plot(item_msd)\n",
    "plt.title('Cambio de RMSE al variar K filtro item-item y recomendación de artistas')\n",
    "plt.legend(['Similitud Coseno', 'Similitud Pearson', 'Similitud MSD'])\n",
    "plt.xlabel('K')\n",
    "plt.ylabel('RMSE')\n",
    "plt.grid()"
   ]
  }
 ],
 "metadata": {
  "kernelspec": {
   "display_name": "Python 3 (ipykernel)",
   "language": "python",
   "name": "python3"
  },
  "language_info": {
   "codemirror_mode": {
    "name": "ipython",
    "version": 3
   },
   "file_extension": ".py",
   "mimetype": "text/x-python",
   "name": "python",
   "nbconvert_exporter": "python",
   "pygments_lexer": "ipython3",
   "version": "3.7.11"
  }
 },
 "nbformat": 4,
 "nbformat_minor": 5
}
