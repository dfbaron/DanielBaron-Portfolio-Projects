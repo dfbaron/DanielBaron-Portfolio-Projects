{
 "cells": [
  {
   "cell_type": "code",
   "execution_count": 1,
   "id": "e058c0ab",
   "metadata": {},
   "outputs": [],
   "source": [
    "import pandas as pd\n",
    "import numpy as np\n",
    "from tqdm import tqdm\n",
    "import time\n",
    "\n",
    "from scipy import spatial\n",
    "\n",
    "import numpy as np\n",
    "from sklearn.metrics import pairwise_distances\n",
    "from scipy.spatial.distance import cosine\n",
    "from sklearn.feature_selection import chi2"
   ]
  },
  {
   "cell_type": "markdown",
   "id": "35655750",
   "metadata": {},
   "source": [
    "## Importación de los datos"
   ]
  },
  {
   "cell_type": "code",
   "execution_count": 2,
   "id": "5c611caf",
   "metadata": {},
   "outputs": [],
   "source": [
    "def load_dataset():\n",
    "    \n",
    "    dataset_path = 'dataset/'\n",
    "    df_business = pd.read_json(dataset_path + 'business.json', lines=True)\n",
    "    \n",
    "    size = 1000000\n",
    "    df_reviews = pd.read_json(dataset_path + 'review.json', lines=True, \n",
    "                          dtype={'review_id':str,'user_id':str,\n",
    "                                 'business_id':str,'stars':int,\n",
    "                                 'date':str,'text':str,'useful':int,\n",
    "                                 'funny':int,'cool':int},\n",
    "                          chunksize=size)\n",
    "    reviews_list = []\n",
    "    for df_review in tqdm(df_reviews):\n",
    "        df_review = df_review.drop(['review_id','useful','funny','cool'], axis=1)\n",
    "        df_review = df_review.rename(columns={'stars': 'review_stars'})\n",
    "        df_review_m = pd.merge(df_business, df_review, on='business_id', how='inner')\n",
    "        reviews_list.append(df_review_m)\n",
    "\n",
    "    df_review = pd.concat(reviews_list, ignore_index=True, join='outer', axis=0)\n",
    "    return df_review, df_business"
   ]
  },
  {
   "cell_type": "markdown",
   "id": "035b462a",
   "metadata": {},
   "source": [
    "## Sistema de recomendación Usuario-Usuario"
   ]
  },
  {
   "cell_type": "code",
   "execution_count": 3,
   "id": "a4e56080",
   "metadata": {},
   "outputs": [],
   "source": [
    "def filter_by_user(df_review, user_ids, non_seen_items):\n",
    "    user_cities = list(df_review[df_review['user_id'].isin(user_ids)]['city'].values)\n",
    "    user_items = list(set(list(df_review[df_review['user_id'].isin(user_ids)]['business_id'])))\n",
    "    reviews_user = df_review[(df_review['city'].isin(user_cities)) & (df_review['business_id'].isin(user_items))]\n",
    "    if non_seen_items:\n",
    "        user_cities = list(df_review[df_review['user_id'].isin([user_ids[0]])]['city'].values)\n",
    "        user_items = list(set(list(df_review[df_review['user_id'].isin([user_ids[0]])]['business_id'])))\n",
    "        non_seen_items = df_review[(df_review['city'].isin(user_cities)) & (df_review['business_id'].isin(user_items) == False)]\n",
    "        return reviews_user, non_seen_items[['business_id', 'user_id', 'review_stars']]\n",
    "    else:\n",
    "        return reviews_user, None"
   ]
  },
  {
   "cell_type": "code",
   "execution_count": 4,
   "id": "8775e2e7",
   "metadata": {},
   "outputs": [],
   "source": [
    "def cosine_similarity(matrix):\n",
    "    return 1-pairwise_distances(matrix, metric=\"cosine\")"
   ]
  },
  {
   "cell_type": "code",
   "execution_count": 5,
   "id": "a8b35cd7",
   "metadata": {},
   "outputs": [],
   "source": [
    "def get_similarity_users(df_reviews_user, user_id):\n",
    "    \n",
    "    reviews_user = df_reviews_user[['user_id', 'business_id', 'review_stars']].drop_duplicates()\n",
    "    review_user_matrix = reviews_user.pivot_table(values='review_stars', index='user_id', columns='business_id').fillna(0)\n",
    "    idx = list(review_user_matrix.index)\n",
    "    cosine_sim = cosine_similarity(review_user_matrix)\n",
    "    cosine_sim_matrix = pd.DataFrame(data = cosine_sim, index = idx, columns = idx)\n",
    "    user_sim = cosine_sim_matrix.filter(items=[user_id], axis=0)\n",
    "    most_sim_k_users = user_sim.max().rename_axis('user').reset_index().sort_values(by=0, ascending=False)\n",
    "    most_sim_k_users.columns = ['user_id', 'similarity']\n",
    "    \n",
    "    return most_sim_k_users"
   ]
  },
  {
   "cell_type": "code",
   "execution_count": 12,
   "id": "adc26ce8",
   "metadata": {},
   "outputs": [],
   "source": [
    "def generate_recommendations(df_review, df_business, df_non_seen_items, similarity_users, user_id, K_sim_user, K_rec):\n",
    "    \n",
    "    means_user_ratings = df_reviews_user[['user_id', 'review_stars']].groupby('user_id').mean().rename_axis('user_id').reset_index()\n",
    "    similarity_users = similarity_users.merge(means_user_ratings, on='user_id', how='left')\n",
    "    \n",
    "    top_sim_user = list(similarity_users['user_id'])\n",
    "    df_items = df_non_seen_items[df_non_seen_items['user_id'].isin(top_sim_user)][['business_id', 'user_id', 'review_stars']]\n",
    "    df_items = df_items.pivot_table(values='review_stars', index='user_id', columns='business_id').rename_axis('user_id').reset_index()\n",
    "    \n",
    "    similarity_users = similarity_users.merge(df_items, on='user_id', how='left').fillna(0)\n",
    "    \n",
    "    unseen_items = list(df_non_seen_items['business_id'].drop_duplicates())\n",
    "    df_recommendations = pd.DataFrame(data = unseen_items, columns= ['item'])\n",
    "    df_recommendations['prediction'] = 0\n",
    "    \n",
    "    ra = similarity_users[similarity_users['user_id']==user_id]['review_stars'].values[0]\n",
    "    cols = similarity_users.columns\n",
    "    for unseen_item in tqdm(unseen_items):\n",
    "        if unseen_item in cols:\n",
    "            sample = similarity_users[similarity_users[unseen_item]!=0].head(K_sim_user+1).tail(K_sim_user)\n",
    "            num = np.dot(sample['similarity'], (sample[unseen_item]-sample['review_stars']))\n",
    "            den = sum(sample['similarity'])\n",
    "            ri = ra + num/den\n",
    "            df_recommendations.loc[df_recommendations['item']==unseen_item, ['prediction']] = ri\n",
    "    df_recommendations = df_recommendations.merge(df_business, left_on='item', right_on='business_id', how='left')\n",
    "    df_recommendations = df_recommendations.sort_values(by='prediction', ascending=False)[['name', 'address', 'city', 'state', 'prediction']]\n",
    "    return df_recommendations.head(K_rec)"
   ]
  },
  {
   "cell_type": "code",
   "execution_count": null,
   "id": "bb579bd9",
   "metadata": {},
   "outputs": [],
   "source": [
    "user_id = 'MR_0VqlmaHRBskfq_u9UaA'\n",
    "K_sim_user = 10\n",
    "K_rec = 10\n",
    "\n",
    "df_review, df_business = load_dataset()\n",
    "df_reviews_user, df_non_seen_items = filter_by_user(df_review, [user_id], True)\n",
    "similarity_users = get_similarity_users(df_reviews_user, user_id)"
   ]
  },
  {
   "cell_type": "code",
   "execution_count": 13,
   "id": "7b1a5bb4",
   "metadata": {},
   "outputs": [
    {
     "name": "stderr",
     "output_type": "stream",
     "text": [
      "100%|█████████████████████████████████████████████████████████████████████████████| 2529/2529 [00:05<00:00, 493.47it/s]\n"
     ]
    }
   ],
   "source": [
    "df_recommendations = generate_recommendations(df_review, df_business, df_non_seen_items, similarity_users, user_id, \\\n",
    "                                              K_sim_user, K_rec)"
   ]
  }
 ],
 "metadata": {
  "kernelspec": {
   "display_name": "Python 3 (ipykernel)",
   "language": "python",
   "name": "python3"
  },
  "language_info": {
   "codemirror_mode": {
    "name": "ipython",
    "version": 3
   },
   "file_extension": ".py",
   "mimetype": "text/x-python",
   "name": "python",
   "nbconvert_exporter": "python",
   "pygments_lexer": "ipython3",
   "version": "3.7.11"
  }
 },
 "nbformat": 4,
 "nbformat_minor": 5
}
