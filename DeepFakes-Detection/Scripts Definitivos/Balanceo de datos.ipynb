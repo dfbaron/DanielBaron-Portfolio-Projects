{
 "cells": [
  {
   "cell_type": "markdown",
   "id": "ed0e9381",
   "metadata": {},
   "source": [
    "# Detección de Videos generados por medio de DeepFake"
   ]
  },
  {
   "cell_type": "markdown",
   "id": "f44c31da",
   "metadata": {},
   "source": [
    "## Etapa de balanceo de datos"
   ]
  },
  {
   "cell_type": "markdown",
   "id": "d24e9b54",
   "metadata": {},
   "source": [
    "Importación de las librerías necesarias."
   ]
  },
  {
   "cell_type": "code",
   "execution_count": null,
   "id": "de5c57d9",
   "metadata": {
    "is_executing": true
   },
   "outputs": [],
   "source": [
    "import numpy as np\n",
    "import os\n",
    "import json\n",
    "import pandas as pd\n",
    "import random"
   ]
  },
  {
   "cell_type": "markdown",
   "id": "c21b061d",
   "metadata": {},
   "source": [
    "Se utilizaron 5 Batch de datos del dataset completo para balancear las clases. Se tomaron todos los datos etiquetados como REAL de cada Batch y se hizo un submuestreo aleatorio de los datos etiquetados como FAKE de los demas Batch para balancear las clases. "
   ]
  },
  {
   "cell_type": "code",
   "execution_count": 14,
   "id": "5c91ded1",
   "metadata": {},
   "outputs": [],
   "source": [
    "batchs = ['00','02','04','06','08']\n",
    "metadata_file_name = 'metadata.json'\n",
    "data = []\n",
    "for batch in batchs:\n",
    "    with open(os.path.join('dataset/batch-{}'.format(batch), metadata_file_name)) as file:\n",
    "        metadata = json.loads(file.read())\n",
    "    for key in metadata:\n",
    "        data.append(['dataset/batch-{}/{}'.format(batch, key), metadata[key]['label']])"
   ]
  },
  {
   "cell_type": "markdown",
   "id": "754c7c4d",
   "metadata": {},
   "source": [
    "Filtrado de la lista con el dataset escogido para cada clase."
   ]
  },
  {
   "cell_type": "code",
   "execution_count": 15,
   "id": "212b5a5a",
   "metadata": {},
   "outputs": [],
   "source": [
    "data_def = []\n",
    "data_real = [x for x in data if x[1] == 'REAL']\n",
    "data_fake = [x for x in data if x[1] == 'FAKE']"
   ]
  },
  {
   "cell_type": "code",
   "execution_count": 8,
   "id": "474ba6ca",
   "metadata": {},
   "outputs": [],
   "source": [
    "n_real = len(data_real)\n",
    "data_fake = random.sample(data_fake, n_real)\n",
    "data_def.append(data_real)\n",
    "data_def.append(data_fake)"
   ]
  },
  {
   "cell_type": "markdown",
   "id": "175e7aed",
   "metadata": {},
   "source": [
    "Aplanamiento del la lista con el conjunto de datos definitivo."
   ]
  },
  {
   "cell_type": "code",
   "execution_count": 9,
   "id": "91ddf559",
   "metadata": {},
   "outputs": [],
   "source": [
    "data_def = [item for sublist in data_def for item in sublist]"
   ]
  },
  {
   "cell_type": "markdown",
   "id": "9359c25f",
   "metadata": {},
   "source": [
    "Conversión de la lista con el conjunto de datos definitivo a un dataframe para su exportación como archivo CSV."
   ]
  },
  {
   "cell_type": "code",
   "execution_count": 10,
   "id": "3f36de10",
   "metadata": {},
   "outputs": [],
   "source": [
    "data_def_df = pd.DataFrame(data_def, columns = ['PATH','LABEL'])"
   ]
  },
  {
   "cell_type": "markdown",
   "id": "5c0c3772",
   "metadata": {},
   "source": [
    "Exportación del archivo con la informacion de ruta y label del conjunto de datos definitivo."
   ]
  },
  {
   "cell_type": "code",
   "execution_count": 11,
   "id": "c30519ba",
   "metadata": {},
   "outputs": [],
   "source": [
    "data_def_df.to_csv('data_definitiva.csv', sep='|')"
   ]
  }
 ],
 "metadata": {
  "kernelspec": {
   "display_name": "Python 3 (ipykernel)",
   "language": "python",
   "name": "python3"
  },
  "language_info": {
   "codemirror_mode": {
    "name": "ipython",
    "version": 3
   },
   "file_extension": ".py",
   "mimetype": "text/x-python",
   "name": "python",
   "nbconvert_exporter": "python",
   "pygments_lexer": "ipython3",
   "version": "3.9.7"
  }
 },
 "nbformat": 4,
 "nbformat_minor": 5
}
